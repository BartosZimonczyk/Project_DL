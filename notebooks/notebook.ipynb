{
 "cells": [
  {
   "cell_type": "code",
   "execution_count": null,
   "metadata": {
    "cell_id": "172db36b-d306-49d0-a58f-2408568b5426",
    "deepnote_cell_height": 198.1875,
    "deepnote_cell_type": "code",
    "deepnote_to_be_reexecuted": false,
    "execution_millis": 461,
    "execution_start": 1647790185670,
    "source_hash": "c244e7d8",
    "tags": []
   },
   "outputs": [
    {
     "ename": "",
     "evalue": "",
     "output_type": "error",
     "traceback": [
      "\u001b[1;31mFailed to start the Kernel. \n",
      "Traceback (most recent call last):\n",
      "  File \"/home/bartosz/.vscode/extensions/ms-toolsai.jupyter-2022.3.1000901801/pythonFiles/vscode_datascience_helpers/daemon/daemon_python.py\", line 54, in _decorator\n",
      "    return func(self, *args, **kwargs)\n",
      "  File \"/home/bartosz/.vscode/extensions/ms-toolsai.jupyter-2022.3.1000901801/pythonFiles/vscode_datascience_helpers/jupyter_daemon.py\", line 108, in m_exec_module_observable\n",
      "    self._start_notebook(args, cwd, env)\n",
      "  File \"/home/bartosz/.vscode/extensions/ms-toolsai.jupyter-2022.3.1000901801/pythonFiles/vscode_datascience_helpers/jupyter_daemon.py\", line 154, in _start_notebook\n",
      "    from notebook import notebookapp as app\n",
      "  File \"/home/bartosz/.local/lib/python3.8/site-packages/notebook/notebookapp.py\", line 78, in <module>\n",
      "    from .services.kernels.kernelmanager import MappingKernelManager, AsyncMappingKernelManager\n",
      "  File \"/home/bartosz/.local/lib/python3.8/site-packages/notebook/services/kernels/kernelmanager.py\", line 18, in <module>\n",
      "    from jupyter_client.session import Session\n",
      "ModuleNotFoundError: No module named 'jupyter_client'\n",
      "\n",
      "Failed to run jupyter as observable with args notebook --no-browser --notebook-dir=\"/home/bartosz/Repos/Project_DL\" --KernelManager.autorestart=False --config=/tmp/6f0c93be-c99a-4b87-994a-ab8fee8ba836/jupyter_notebook_config.py --NotebookApp.iopub_data_rate_limit=10000000000.0. \n",
      "View Jupyter <a href='command:jupyter.viewOutput'>log</a> for further details."
     ]
    }
   ],
   "source": [
    "import torch"
   ]
  },
  {
   "cell_type": "code",
   "execution_count": null,
   "metadata": {
    "cell_id": "5edfbb34-3b50-44bf-8dc2-aa403a8595ba",
    "deepnote_cell_height": 112.1875,
    "deepnote_cell_type": "code",
    "deepnote_to_be_reexecuted": false,
    "execution_millis": 9,
    "execution_start": 1647790182522,
    "source_hash": "9e7b9d2a",
    "tags": []
   },
   "outputs": [
    {
     "name": "stdout",
     "output_type": "stream",
     "text": [
      "siema\n"
     ]
    }
   ],
   "source": []
  },
  {
   "cell_type": "markdown",
   "metadata": {
    "created_in_deepnote_cell": true,
    "deepnote_cell_type": "markdown",
    "tags": []
   },
   "source": []
  }
 ],
 "metadata": {
  "deepnote": {
   "is_reactive": false
  },
  "deepnote_execution_queue": [],
  "deepnote_notebook_id": "20684c27-cf63-415c-b9da-952b4a5380c3",
  "interpreter": {
   "hash": "3790c8f4632a4e11f9df30c1dba1feca16c37f1256f95dbe1a7d166eeb33544d"
  },
  "kernelspec": {
   "display_name": "Project_DL",
   "language": "python",
   "name": "python3"
  },
  "language_info": {
   "name": "python",
   "version": "3.8.13"
  },
  "orig_nbformat": 2
 },
 "nbformat": 4,
 "nbformat_minor": 2
}
